{
 "cells": [
  {
   "cell_type": "code",
   "execution_count": 1,
   "id": "27948c4c",
   "metadata": {},
   "outputs": [],
   "source": [
    "import numpy as np\n",
    "import matplotlib.pyplot as plt"
   ]
  },
  {
   "cell_type": "markdown",
   "id": "f7463609",
   "metadata": {},
   "source": [
    "### Tutorial 2: Chebyshev Polynomials"
   ]
  },
  {
   "cell_type": "code",
   "execution_count": 3,
   "id": "5dca6954",
   "metadata": {},
   "outputs": [],
   "source": [
    "N = 8\n",
    "x = np.arange(0, np.pi, np.pi/(N-1))\n",
    "x_i = np.cos(x)"
   ]
  },
  {
   "cell_type": "code",
   "execution_count": 7,
   "id": "eb6f6027",
   "metadata": {},
   "outputs": [
    {
     "name": "stdout",
     "output_type": "stream",
     "text": [
      "[[ 1.          1.          1.          1.          1.          1.\n",
      "   1.          1.        ]\n",
      " [ 1.          0.90096887  0.6234898   0.22252093 -0.22252093 -0.6234898\n",
      "  -0.90096887 -1.        ]\n",
      " [ 1.          0.6234898  -0.22252093 -0.90096887 -0.90096887 -0.22252093\n",
      "   0.6234898   1.        ]\n",
      " [ 1.          0.22252093 -0.90096887 -0.6234898   0.6234898   0.90096887\n",
      "  -0.22252093 -1.        ]\n",
      " [ 1.         -0.22252093 -0.90096887  0.6234898   0.6234898  -0.90096887\n",
      "  -0.22252093  1.        ]\n",
      " [ 1.         -0.6234898  -0.22252093  0.90096887 -0.90096887  0.22252093\n",
      "   0.6234898  -1.        ]\n",
      " [ 1.         -0.90096887  0.6234898  -0.22252093 -0.22252093  0.6234898\n",
      "  -0.90096887  1.        ]\n",
      " [ 1.         -1.          1.         -1.          1.         -1.\n",
      "   1.         -1.        ]]\n"
     ]
    }
   ],
   "source": [
    "ToPhys = np.zeros((8, 8))\n",
    "for i in range(N):\n",
    "    for j in range(N):\n",
    "        ToPhys[i,j] = np.cos(np.pi*i*j/(N-1))\n",
    "print(ToPhys)"
   ]
  },
  {
   "cell_type": "code",
   "execution_count": null,
   "id": "628ee3f2",
   "metadata": {},
   "outputs": [],
   "source": [
    "ToSpec = np.zeros((N, N))\n",
    "cbar = np.ones((N, N))\n",
    "for i in range(N):\n",
    "    for j in range(N):\n",
    "        if j = 0 or j = N-1:\n",
    "            cbar[i, j] = 2\n",
    "        else:\n",
    "            cbar[i, j] = 1\n",
    "\n",
    "for i in range(N):\n",
    "    for j in range(N):\n",
    "        ToSpec[i, j] = "
   ]
  },
  {
   "cell_type": "code",
   "execution_count": 8,
   "id": "975305a4",
   "metadata": {},
   "outputs": [],
   "source": [
    "# Contians Answers\n",
    "\n",
    "def ChebyshevHelpers(N, a=-1., b=1.):\n",
    "    \"\"\"\n",
    "        Given an expansion order N, compute and return the\n",
    "        following five objects useful for Chebyshev series:\n",
    "        \n",
    "        x --      collocation points covering the interval [a,b]\n",
    "        ToSpec -- matrix that transforms real space values u_i to\n",
    "                  spectral coefficients \\tilde u_k        \n",
    "        ToPhys -- matrix that transforms spectral coefficients\n",
    "                  \\tilde u_k to real space values u_i        \n",
    "        D1 -- real-space differentiation matrix\n",
    "        D2 -- real-space 2nd derivative differentiation matrix\n",
    "        \n",
    "        x is a numpy array of length N, everything else are NxN matrices\n",
    "    \"\"\"\n",
    "\n",
    "    # Collocation points: \n",
    "    x = np.cos(np.pi* np.arange(0, N) / (N-1))\n",
    "    \n",
    "    # ToPhys matrix: Coeff. space -----> Real space\n",
    "    ToPhys = np.zeros(shape = (N, N))\n",
    "    for i in range(N):\n",
    "        for k in range(N):\n",
    "            ToPhys[i, k] = np.cos(np.pi*i*k/(N-1))\n",
    "       \n",
    "    # ToSpec matrix: Real space ------> Coeff space\n",
    "    cbar = np.ones(N) # Definition of \"cbar\"\n",
    "    cbar[0] = cbar[-1] = 2.\n",
    "    ToSpec = np.zeros(shape = (N,N))\n",
    "    for i in range(N):\n",
    "        for j in range(N):\n",
    "            ToSpec[i, j] = (np.cos(np.pi*j*i/(N-1))/cbar[j]) * 2/(cbar[i]*(N-1))\n",
    "    \n",
    "    # D_tilde matrix: Spectral differentiation matrix\n",
    "    c = np.ones(N) # Definition of \"c\"\n",
    "    c[0] = 2\n",
    "    Dtilde=np.zeros( shape = (N,N) )\n",
    "    for k in reversed(range(N-1)):\n",
    "        if k<=N-3:\n",
    "            Dtilde[k,:]=1/c[k]*Dtilde[k+2,:]\n",
    "        Dtilde[k,k+1]+=2*(k+1)/c[k]\n",
    "    \n",
    "    # D1 matrix: First-derivative matrix\n",
    "    D1 = ToPhys @ Dtilde @ ToSpec\n",
    "    \n",
    "    # D2 matrix: Second-derivative matrix\n",
    "    D2 = ToPhys @ Dtilde @ Dtilde @ ToSpec\n",
    "    \n",
    "    return x, ToSpec, ToPhys, D1, D2"
   ]
  },
  {
   "cell_type": "code",
   "execution_count": 9,
   "id": "d1f40c53",
   "metadata": {},
   "outputs": [
    {
     "data": {
      "image/png": "[encoded data removed]",
      "text/plain": [
       "<Figure size 432x288 with 1 Axes>"
      ]
     },
     "metadata": {
      "needs_background": "light"
     },
     "output_type": "display_data"
    },
    {
     "data": {
      "image/png": "[encoded data removed]",
      "text/plain": [
       "<Figure size 432x288 with 1 Axes>"
      ]
     },
     "metadata": {
      "needs_background": "light"
     },
     "output_type": "display_data"
    }
   ],
   "source": [
    "N=8 # (or 16, or ...)\n",
    "x,ToSpec,ToPhys,D1,D2 = ChebyshevHelpers(N)\n",
    "u = x**2\n",
    "plt.figure()\n",
    "plt.plot(x, ToPhys @ (ToSpec @ u), label=\"phys(spec(u))\")\n",
    "plt.plot(x, D1 @ u, label=\"u'\")\n",
    "plt.plot(x, D2 @ u, label=\"u''\")\n",
    "plt.legend()\n",
    "plt.show()\n",
    "plt.grid()"
   ]
  }
 ],
 "metadata": {
  "kernelspec": {
   "display_name": "Python 3 (ipykernel)",
   "language": "python",
   "name": "python3"
  },
  "language_info": {
   "codemirror_mode": {
    "name": "ipython",
    "version": 3
   },
   "file_extension": ".py",
   "mimetype": "text/x-python",
   "name": "python",
   "nbconvert_exporter": "python",
   "pygments_lexer": "ipython3",
   "version": "3.8.8"
  }
 },
 "nbformat": 4,
 "nbformat_minor": 5
}
